{
 "cells": [
  {
   "cell_type": "code",
   "execution_count": 1,
   "metadata": {},
   "outputs": [
    {
     "name": "stderr",
     "output_type": "stream",
     "text": [
      "Using TensorFlow backend.\n"
     ]
    }
   ],
   "source": [
    "# Import necessary libraries.\n",
    "import numpy as np\n",
    "import helpers\n",
    "import matplotlib.pyplot as plt\n",
    "from keras.models import Sequential\n",
    "from keras.layers import Dense"
   ]
  },
  {
   "cell_type": "code",
   "execution_count": 8,
   "metadata": {},
   "outputs": [],
   "source": [
    "# Load data.\n",
    "X_train, y_train, X_test, y_test = helpers.load_data('train.csv', split=0.6, shuffle=False, blacklist=['LOAN_ID'])"
   ]
  },
  {
   "cell_type": "code",
   "execution_count": 9,
   "metadata": {},
   "outputs": [],
   "source": [
    "# Ensuring that all the data is floats.\n",
    "X_train = np.array([ [0 if element=='' else float(element) for element in row] for row in X_train])\n",
    "X_test = np.array([ [0 if element=='' else float(element) for element in row] for row in X_test])\n",
    "y_train = np.array([ float(element) for element in y_train])\n",
    "y_test = np.array([ float(element) for element in y_test])"
   ]
  },
  {
   "cell_type": "code",
   "execution_count": 10,
   "metadata": {},
   "outputs": [],
   "source": [
    "# Creating & compiling the model.\n",
    "\n",
    "model = Sequential()\n",
    "model.add(Dense(112, input_dim=14, activation='relu'))\n",
    "model.add(Dense(56, activation='relu'))\n",
    "model.add(Dense(1, activation='sigmoid'))\n",
    "\n",
    "model.compile(loss='binary_crossentropy', optimizer='adam', metrics=['accuracy'])"
   ]
  },
  {
   "cell_type": "code",
   "execution_count": 11,
   "metadata": {},
   "outputs": [
    {
     "name": "stdout",
     "output_type": "stream",
     "text": [
      "Epoch 1/3\n",
      "2145/2145 [==============================] - 1s 655us/step - loss: 3.0808 - acc: 0.8089\n",
      "Epoch 2/3\n",
      "2145/2145 [==============================] - 0s 87us/step - loss: 3.0808 - acc: 0.8089\n",
      "Epoch 3/3\n",
      "2145/2145 [==============================] - ETA: 0s - loss: 3.0581 - acc: 0.810 - 0s 96us/step - loss: 3.0808 - acc: 0.8089\n"
     ]
    },
    {
     "data": {
      "text/plain": [
       "<keras.callbacks.History at 0x1d501b3e208>"
      ]
     },
     "execution_count": 11,
     "metadata": {},
     "output_type": "execute_result"
    }
   ],
   "source": [
    "# Training the model.\n",
    "\n",
    "model.fit(X_train, y_train, epochs=3, batch_size=50)"
   ]
  },
  {
   "cell_type": "code",
   "execution_count": 7,
   "metadata": {
    "scrolled": true
   },
   "outputs": [
    {
     "name": "stdout",
     "output_type": "stream",
     "text": [
      "The model ran with 80.1675977654% accuracy.\n"
     ]
    }
   ],
   "source": [
    "# Predicting from the test set.\n",
    "\n",
    "y_pred = model.predict(X_test)\n",
    "y_pred = y_pred[:,0]\n",
    "y_correct = abs(y_pred - y_test)\n",
    "percentage = 100 - ((sum(y_correct)/y_correct.size)*100)\n",
    "print(\"The model ran with \" +str(percentage) + \"% accuracy.\")"
   ]
  },
  {
   "cell_type": "code",
   "execution_count": null,
   "metadata": {},
   "outputs": [],
   "source": []
  },
  {
   "cell_type": "code",
   "execution_count": null,
   "metadata": {},
   "outputs": [],
   "source": []
  }
 ],
 "metadata": {
  "kernelspec": {
   "display_name": "Python 3",
   "language": "python",
   "name": "python3"
  },
  "language_info": {
   "codemirror_mode": {
    "name": "ipython",
    "version": 3
   },
   "file_extension": ".py",
   "mimetype": "text/x-python",
   "name": "python",
   "nbconvert_exporter": "python",
   "pygments_lexer": "ipython3",
   "version": "3.6.4"
  }
 },
 "nbformat": 4,
 "nbformat_minor": 2
}
